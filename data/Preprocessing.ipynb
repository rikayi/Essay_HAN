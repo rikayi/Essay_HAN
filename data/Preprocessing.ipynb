{
 "cells": [
  {
   "cell_type": "markdown",
   "metadata": {},
   "source": [
    "# ASAP preprocessing"
   ]
  },
  {
   "cell_type": "code",
   "execution_count": 1,
   "metadata": {},
   "outputs": [],
   "source": [
    "import pandas as pd\n",
    "import numpy as np\n",
    "import re\n",
    "from collections import Counter\n",
    "import random\n",
    "from sklearn.model_selection import train_test_split\n",
    "import nltk\n",
    "from nltk.tokenize import PunktSentenceTokenizer"
   ]
  },
  {
   "cell_type": "markdown",
   "metadata": {},
   "source": [
    "Initialize constants. Documents with num of words in sentence > MAX_WORD_PER_SENTENCE or num of sentences in doc > MAX_SENTENCE_PER_DOC will be discarded. Words that appear in data less than MIN_FREQ_WORD_NUM wiil be changed to '__UNK_WORD__' token"
   ]
  },
  {
   "cell_type": "code",
   "execution_count": 2,
   "metadata": {},
   "outputs": [],
   "source": [
    "MAX_WORD_PER_SENTENCE = 40\n",
    "MAX_SENTENCE_PER_DOC = 40\n",
    "MIN_FREQ_WORD_NUM = 5\n"
   ]
  },
  {
   "cell_type": "markdown",
   "metadata": {},
   "source": [
    "Dividing dataset to labels and documents (only for first subset)"
   ]
  },
  {
   "cell_type": "code",
   "execution_count": 3,
   "metadata": {},
   "outputs": [],
   "source": [
    "df=pd.read_csv('processed_dataset.csv')"
   ]
  },
  {
   "cell_type": "code",
   "execution_count": 4,
   "metadata": {},
   "outputs": [
    {
     "data": {
      "text/plain": [
       "[1783, 1800, 1726, 1770, 1805, 1800, 1569, 723]"
      ]
     },
     "execution_count": 4,
     "metadata": {},
     "output_type": "execute_result"
    }
   ],
   "source": [
    "[len(df[df['essay_set']==i]) for i in range(1,9)]"
   ]
  },
  {
   "cell_type": "code",
   "execution_count": 5,
   "metadata": {},
   "outputs": [],
   "source": [
    "test=df[df['essay_set']==1]\n",
    "data=test['essay']\n",
    "labels=test['score']\n",
    "data_np = data.values\n"
   ]
  },
  {
   "cell_type": "markdown",
   "metadata": {},
   "source": [
    "## Preprocessing functions"
   ]
  },
  {
   "cell_type": "code",
   "execution_count": 6,
   "metadata": {},
   "outputs": [],
   "source": [
    "def read(docs):\n",
    "    \"\"\"\n",
    "    Tokenize texts into sentences using nltk.\n",
    "    \n",
    "    docs: ndarray with texts, shape=(num_texts,)\n",
    "    \n",
    "    returns: documents - list with tokenized texts \n",
    "    \"\"\"\n",
    "    sent_tokenizer = nltk.tokenize.PunktSentenceTokenizer()\n",
    "    documents = []\n",
    "    for doc in docs:\n",
    "        sentences = sent_tokenizer.tokenize(doc)\n",
    "        documents.append(sentences)\n",
    "    return documents\n"
   ]
  },
  {
   "cell_type": "code",
   "execution_count": 7,
   "metadata": {},
   "outputs": [],
   "source": [
    "def clean_str(string):\n",
    "    \"\"\"\n",
    "    Tokenization/string cleaning for all datasets except for SST.\n",
    "    Original taken from https://github.com/yoonkim/CNN_sentence/blob/master/process_data.py\n",
    "    \"\"\"\n",
    "    string = re.sub(r\"[^A-Za-z,!?'`]\", \" \", string)\n",
    "    string = re.sub(r\",\", \" , \", string)\n",
    "    string = re.sub(r\"!\", \" ! \", string)\n",
    "    string = re.sub(r\"\\?\", \" ? \", string)\n",
    "    string = re.sub(r\"\\s{2,}\", \" \", string)\n",
    "    return string.strip().lower()"
   ]
  },
  {
   "cell_type": "code",
   "execution_count": 8,
   "metadata": {},
   "outputs": [],
   "source": [
    "def split_to_words(documents):\n",
    "    \"\"\"\n",
    "    Tokenize sentence to words/removing text due to predefined constants.\n",
    "    \n",
    "    documents: list with tokenized texts (from read function)\n",
    "    \n",
    "    returns: new_documents - list with texts tokenized to words\n",
    "             counter - Counter with frequencies of words\n",
    "    \"\"\"\n",
    "    new_documents = []\n",
    "    counter = Counter()\n",
    "    drop=[]\n",
    "    for i, doc in enumerate(documents):\n",
    "        document = []\n",
    "        \n",
    "        discard = False\n",
    "        for sentence in doc:\n",
    "            n_sentence = []\n",
    "            words = clean_str(sentence).split(\" \")\n",
    "            # if any sentence's length is over  MAX_WORD_PER_SENTENCE,\n",
    "            # discard the whole document for simplicity\n",
    "            if len(words) > MAX_WORD_PER_SENTENCE:\n",
    "                discard = True\n",
    "                break\n",
    "            for word in words:\n",
    "                word = word.strip()\n",
    "                if word:\n",
    "                    n_sentence.append(word)\n",
    "                    counter[word] += 1\n",
    "            if n_sentence:\n",
    "                document.append(n_sentence)\n",
    "        # only accept document that has more than one sentence and less than MAX_SENTENCE_PER_DOC,\n",
    "        # again, for simplicity's sake\n",
    "        if 1 < len(document) <= MAX_SENTENCE_PER_DOC and not discard:\n",
    "            new_documents.append(document)\n",
    "        else:\n",
    "            drop.append(i)\n",
    "    labels.drop(drop,inplace=True)\n",
    "    return new_documents, counter\n",
    "\n",
    "\n",
    "\n"
   ]
  },
  {
   "cell_type": "code",
   "execution_count": 9,
   "metadata": {},
   "outputs": [],
   "source": [
    "def freq(n):\n",
    "        num = 0\n",
    "        for k, v in counter.items():\n",
    "            if v >= n:\n",
    "                num += 1\n",
    "        return num\n",
    "#print('len of vocabulary：%s' % len(counter))\n",
    "#print('number of frequency more than %d：%s' % (5, freq(5)))\n"
   ]
  },
  {
   "cell_type": "code",
   "execution_count": 10,
   "metadata": {},
   "outputs": [],
   "source": [
    "def process_doc(docs_processed,counter):\n",
    "    \"\"\"\n",
    "    Replacing rare words with '__UNK_WORD__' token.\n",
    "    \n",
    "    docs_preprocessed: list with texts tokenized to words (from split_to_word function)\n",
    "    counter - Counter with frequencies of words (from split_to_word function)\n",
    "    \n",
    "    \"\"\"\n",
    "    for doc_id in range(len(docs_processed)):\n",
    "        for sen_id in range(len(docs_processed[doc_id])):\n",
    "            for word_id in range(len(docs_processed[doc_id][sen_id])):\n",
    "                word = docs_processed[doc_id][sen_id][word_id]\n",
    "                if counter[word] < 10:\n",
    "                    docs_processed[doc_id][sen_id][word_id] = '__UNK_WORD__'\n"
   ]
  },
  {
   "cell_type": "code",
   "execution_count": 11,
   "metadata": {},
   "outputs": [],
   "source": [
    "def write_vocab(vocab, vocab_file):\n",
    "    \"\"\"\n",
    "    Write vocabulary to file.\n",
    "    \n",
    "    vocab: dict (word : word_code)\n",
    "    vocab_file: string, filename\n",
    "    \"\"\"\n",
    "    with open(vocab_file, 'w') as f:\n",
    "        for word, index in vocab.items():\n",
    "            f.write(word+' '+str(index)+'\\n')\n"
   ]
  },
  {
   "cell_type": "code",
   "execution_count": 12,
   "metadata": {},
   "outputs": [
    {
     "name": "stderr",
     "output_type": "stream",
     "text": [
      "C:\\Users\\Zhenya\\Anaconda3\\lib\\site-packages\\pandas\\core\\generic.py:3111: SettingWithCopyWarning: \n",
      "A value is trying to be set on a copy of a slice from a DataFrame\n",
      "\n",
      "See the caveats in the documentation: http://pandas.pydata.org/pandas-docs/stable/indexing.html#indexing-view-versus-copy\n",
      "  self._update_inplace(obj)\n"
     ]
    },
    {
     "name": "stdout",
     "output_type": "stream",
     "text": [
      "total number of documents: 1056\n",
      "max num of document sentences：40\n",
      "min num of document sentences：2\n",
      "avg num of document sentences：24.107954545454547\n",
      "max num of sentence words：40\n",
      "min num of sentence words：1\n",
      "avg num of sentence words：15.265260428941787\n",
      "vocab len：2069\n"
     ]
    }
   ],
   "source": [
    "def pre_process(docs):\n",
    "    \"\"\"\n",
    "    Preprocess dataset/save vocab.\n",
    "    \n",
    "    docs: ndarray with texts, shape=(num_texts,)\n",
    "    \n",
    "    returns: data_processed - preprocessed dataset\n",
    "             vocab - vocabulary of all word in preprocessed dataset\n",
    "    \"\"\"\n",
    "    data = read(docs)\n",
    "    \n",
    "    data_processed, counter = split_to_words(data)\n",
    "    process_doc(data_processed, counter)\n",
    "    word_index = 1\n",
    "    vocab = {}\n",
    "    for doc in data_processed:\n",
    "        for sen in doc:\n",
    "            for word in sen:\n",
    "                if word not in vocab:\n",
    "                    vocab[word] = word_index\n",
    "                    word_index += 1\n",
    "\n",
    "    doc_len = []\n",
    "    sentence_len = []\n",
    "    for doc in data_processed:\n",
    "        doc_len.append(len(doc))\n",
    "        for sen in doc:\n",
    "            sentence_len.append(len(sen))\n",
    "    print('total number of documents: %s' % (len(data_processed)))\n",
    "    print('max num of document sentences：%s' % max(doc_len))\n",
    "    print('min num of document sentences：%s' % min(doc_len))\n",
    "    print('avg num of document sentences：%s' % (float(sum(doc_len))/len(doc_len)))\n",
    "\n",
    "    print('max num of sentence words：%s' % max(sentence_len))\n",
    "    print('min num of sentence words：%s' % min(sentence_len))\n",
    "    print('avg num of sentence words：%s' % (float(sum(sentence_len))/len(sentence_len)))\n",
    "    \n",
    "    print('vocab len：%s' % len(vocab))\n",
    "    \n",
    "    write_vocab(vocab, 'vocab.txt')\n",
    "    return data_processed, vocab\n",
    "\n",
    "all_data, vocab = pre_process(data_np)\n"
   ]
  },
  {
   "cell_type": "markdown",
   "metadata": {},
   "source": [
    "Encoding every word with unique code"
   ]
  },
  {
   "cell_type": "code",
   "execution_count": 13,
   "metadata": {},
   "outputs": [],
   "source": [
    "def encode_doc(lst, vocab):\n",
    "    \"\"\"\n",
    "    Encode every word in dataset with its code & pad all text with zeros.\n",
    "    \n",
    "    lst: preprocessed dataset\n",
    "    vocab - vocabulary of all word in preprocessed dataset\n",
    "    \n",
    "    returns: ndarray with encoded & padded data, shape=(num_docs, sentence_max_num, sentence_max_len) \n",
    "    \"\"\"\n",
    "    sentence_max_len = max([max([len(sen) for sen in doc]) for doc in lst])\n",
    "    sentence_max_num = max(map(len, lst))\n",
    "    result = np.zeros([len(lst), sentence_max_num, sentence_max_len], dtype=np.int32)\n",
    "    for i, row in enumerate(lst):\n",
    "        for j, col in enumerate(row):\n",
    "            for k, val in enumerate(col):\n",
    "                result[i][j][k] = vocab[val]\n",
    "    return result"
   ]
  },
  {
   "cell_type": "code",
   "execution_count": 14,
   "metadata": {},
   "outputs": [],
   "source": [
    "encoded=encode_doc(all_data,vocab)"
   ]
  },
  {
   "cell_type": "markdown",
   "metadata": {},
   "source": [
    "Normalizing labels"
   ]
  },
  {
   "cell_type": "code",
   "execution_count": 15,
   "metadata": {},
   "outputs": [],
   "source": [
    "np_labels = np.array(labels)\n",
    "np_labels = (np_labels-np.min(np_labels))/(np.max(np_labels)-np.min(np_labels))\n"
   ]
  },
  {
   "cell_type": "markdown",
   "metadata": {},
   "source": [
    "Split and saving"
   ]
  },
  {
   "cell_type": "code",
   "execution_count": 16,
   "metadata": {},
   "outputs": [],
   "source": [
    "X_train, X_test, y_train, y_test = train_test_split(encoded, np_labels, test_size=0.1, random_state=42)\n",
    "np.save('x_train1',X_train)\n",
    "np.save('y_train1',y_train)\n",
    "np.save('x_test1',X_test)\n",
    "np.save('y_test1',y_test)\n"
   ]
  }
 ],
 "metadata": {
  "kernelspec": {
   "display_name": "Python 3",
   "language": "python",
   "name": "python3"
  },
  "language_info": {
   "codemirror_mode": {
    "name": "ipython",
    "version": 3
   },
   "file_extension": ".py",
   "mimetype": "text/x-python",
   "name": "python",
   "nbconvert_exporter": "python",
   "pygments_lexer": "ipython3",
   "version": "3.6.5"
  }
 },
 "nbformat": 4,
 "nbformat_minor": 2
}
